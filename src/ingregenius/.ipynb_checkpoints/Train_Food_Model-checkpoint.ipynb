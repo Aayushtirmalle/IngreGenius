{
 "cells": [
  {
   "cell_type": "code",
   "execution_count": null,
   "id": "bc8356e2-7f62-4839-b4af-8335733624be",
   "metadata": {},
   "outputs": [],
   "source": [
    "# Import the main YOLO library\n",
    "from ultralytics import YOLO\n",
    "\n",
    "# --- 1. Load a Pre-trained Model ---\n",
    "# We use a pre-trained model (trained on the large COCO dataset) as a starting point.\n",
    "# This technique is called 'transfer learning' and it dramatically improves results.\n",
    "# 'yolov8n.pt' is the \"nano\" version, which is the smallest and fastest.\n",
    "model = YOLO('yolov8n.pt')\n",
    "\n",
    "# --- 2. Train the Model on Your Custom Data ---\n",
    "# This single line of code is where all the magic happens.\n",
    "# It tells YOLO to start training using your dataset's configuration file.\n",
    "results = model.train(\n",
    "    data='../../Data/Fridge objects.v12i.yolov8/data.yaml',  # Path to your dataset's configuration file.\n",
    "    epochs=75,                                  # An epoch is one full training cycle over the entire dataset. 75 is a good start.\n",
    "    imgsz=640,                                  # The size of images to train on. 640 is standard.\n",
    "    project='../models',                        # The directory where results will be saved.\n",
    "    name='IngreGenius_Fridge_Run1'              # A specific name for this training run.\n",
    ")\n",
    "\n",
    "# --- 3. (Optional) Evaluate the Model ---\n",
    "# You can uncomment the line below to see performance metrics on your validation set.\n",
    "# results = model.val()"
   ]
  }
 ],
 "metadata": {
  "kernelspec": {
   "display_name": "Python 3 (ipykernel)",
   "language": "python",
   "name": "python3"
  },
  "language_info": {
   "codemirror_mode": {
    "name": "ipython",
    "version": 3
   },
   "file_extension": ".py",
   "mimetype": "text/x-python",
   "name": "python",
   "nbconvert_exporter": "python",
   "pygments_lexer": "ipython3",
   "version": "3.13.5"
  }
 },
 "nbformat": 4,
 "nbformat_minor": 5
}
